{
 "cells": [
  {
   "cell_type": "code",
   "execution_count": 39,
   "metadata": {},
   "outputs": [],
   "source": [
    "import hdf5storage\n",
    "import numpy as np\n",
    "from sklearn.ensemble import IsolationForest\n",
    "import matplotlib.pyplot as plt\n",
    "import pandas as pd\n",
    "from sklearn.model_selection import train_test_split #데이터 분할을 위해\n",
    "from sklearn.metrics import confusion_matrix,f1_score,roc_auc_score,classification_report,roc_curve,auc"
   ]
  },
  {
   "cell_type": "code",
   "execution_count": 57,
   "metadata": {
    "scrolled": true
   },
   "outputs": [
    {
     "data": {
      "text/html": [
       "<div>\n",
       "<style scoped>\n",
       "    .dataframe tbody tr th:only-of-type {\n",
       "        vertical-align: middle;\n",
       "    }\n",
       "\n",
       "    .dataframe tbody tr th {\n",
       "        vertical-align: top;\n",
       "    }\n",
       "\n",
       "    .dataframe thead th {\n",
       "        text-align: right;\n",
       "    }\n",
       "</style>\n",
       "<table border=\"1\" class=\"dataframe\">\n",
       "  <thead>\n",
       "    <tr style=\"text-align: right;\">\n",
       "      <th></th>\n",
       "      <th>0</th>\n",
       "      <th>1</th>\n",
       "      <th>2</th>\n",
       "      <th>3</th>\n",
       "      <th>4</th>\n",
       "      <th>5</th>\n",
       "      <th>6</th>\n",
       "      <th>7</th>\n",
       "      <th>8</th>\n",
       "      <th>9</th>\n",
       "      <th>...</th>\n",
       "      <th>90</th>\n",
       "      <th>91</th>\n",
       "      <th>92</th>\n",
       "      <th>93</th>\n",
       "      <th>94</th>\n",
       "      <th>95</th>\n",
       "      <th>96</th>\n",
       "      <th>97</th>\n",
       "      <th>98</th>\n",
       "      <th>99</th>\n",
       "    </tr>\n",
       "  </thead>\n",
       "  <tbody>\n",
       "    <tr>\n",
       "      <th>0</th>\n",
       "      <td>-0.0036</td>\n",
       "      <td>-73.804153</td>\n",
       "      <td>198.205963</td>\n",
       "      <td>0.0</td>\n",
       "      <td>-13.124617</td>\n",
       "      <td>-1.1501</td>\n",
       "      <td>0.0</td>\n",
       "      <td>-0.141633</td>\n",
       "      <td>179.249390</td>\n",
       "      <td>114.661163</td>\n",
       "      <td>...</td>\n",
       "      <td>188.055649</td>\n",
       "      <td>-0.107667</td>\n",
       "      <td>-4.469967</td>\n",
       "      <td>158.381409</td>\n",
       "      <td>-137.100632</td>\n",
       "      <td>27.131416</td>\n",
       "      <td>-2.274633</td>\n",
       "      <td>-0.00065</td>\n",
       "      <td>-12.351267</td>\n",
       "      <td>0.0</td>\n",
       "    </tr>\n",
       "    <tr>\n",
       "      <th>1</th>\n",
       "      <td>-0.0036</td>\n",
       "      <td>-73.804153</td>\n",
       "      <td>197.205963</td>\n",
       "      <td>0.0</td>\n",
       "      <td>-13.124617</td>\n",
       "      <td>-1.1501</td>\n",
       "      <td>0.0</td>\n",
       "      <td>-0.141633</td>\n",
       "      <td>179.249390</td>\n",
       "      <td>-44.338833</td>\n",
       "      <td>...</td>\n",
       "      <td>186.055649</td>\n",
       "      <td>-0.107667</td>\n",
       "      <td>-4.469967</td>\n",
       "      <td>123.381416</td>\n",
       "      <td>-137.100632</td>\n",
       "      <td>157.131409</td>\n",
       "      <td>-2.274633</td>\n",
       "      <td>-0.00065</td>\n",
       "      <td>-12.351267</td>\n",
       "      <td>0.0</td>\n",
       "    </tr>\n",
       "    <tr>\n",
       "      <th>2</th>\n",
       "      <td>-0.0036</td>\n",
       "      <td>-73.804153</td>\n",
       "      <td>-53.794033</td>\n",
       "      <td>0.0</td>\n",
       "      <td>-13.124617</td>\n",
       "      <td>-1.1501</td>\n",
       "      <td>0.0</td>\n",
       "      <td>-0.141633</td>\n",
       "      <td>-73.750618</td>\n",
       "      <td>-44.338833</td>\n",
       "      <td>...</td>\n",
       "      <td>188.055649</td>\n",
       "      <td>-0.107667</td>\n",
       "      <td>-4.469967</td>\n",
       "      <td>157.381409</td>\n",
       "      <td>-137.100632</td>\n",
       "      <td>-93.868584</td>\n",
       "      <td>-2.274633</td>\n",
       "      <td>-0.00065</td>\n",
       "      <td>-12.351267</td>\n",
       "      <td>0.0</td>\n",
       "    </tr>\n",
       "    <tr>\n",
       "      <th>3</th>\n",
       "      <td>-0.0036</td>\n",
       "      <td>-73.804153</td>\n",
       "      <td>86.205963</td>\n",
       "      <td>0.0</td>\n",
       "      <td>-13.124617</td>\n",
       "      <td>-1.1501</td>\n",
       "      <td>0.0</td>\n",
       "      <td>-0.141633</td>\n",
       "      <td>76.249382</td>\n",
       "      <td>208.661163</td>\n",
       "      <td>...</td>\n",
       "      <td>188.055649</td>\n",
       "      <td>-0.107667</td>\n",
       "      <td>-4.469967</td>\n",
       "      <td>157.381409</td>\n",
       "      <td>-137.100632</td>\n",
       "      <td>74.131416</td>\n",
       "      <td>-2.274633</td>\n",
       "      <td>-0.00065</td>\n",
       "      <td>-12.351267</td>\n",
       "      <td>0.0</td>\n",
       "    </tr>\n",
       "    <tr>\n",
       "      <th>4</th>\n",
       "      <td>-0.0036</td>\n",
       "      <td>-27.804153</td>\n",
       "      <td>199.205963</td>\n",
       "      <td>0.0</td>\n",
       "      <td>-13.124617</td>\n",
       "      <td>-1.1501</td>\n",
       "      <td>0.0</td>\n",
       "      <td>-0.141633</td>\n",
       "      <td>179.249390</td>\n",
       "      <td>-44.338833</td>\n",
       "      <td>...</td>\n",
       "      <td>188.055649</td>\n",
       "      <td>-0.107667</td>\n",
       "      <td>-4.469967</td>\n",
       "      <td>22.381416</td>\n",
       "      <td>-137.100632</td>\n",
       "      <td>159.131409</td>\n",
       "      <td>-2.274633</td>\n",
       "      <td>-0.00065</td>\n",
       "      <td>-12.351267</td>\n",
       "      <td>0.0</td>\n",
       "    </tr>\n",
       "    <tr>\n",
       "      <th>...</th>\n",
       "      <td>...</td>\n",
       "      <td>...</td>\n",
       "      <td>...</td>\n",
       "      <td>...</td>\n",
       "      <td>...</td>\n",
       "      <td>...</td>\n",
       "      <td>...</td>\n",
       "      <td>...</td>\n",
       "      <td>...</td>\n",
       "      <td>...</td>\n",
       "      <td>...</td>\n",
       "      <td>...</td>\n",
       "      <td>...</td>\n",
       "      <td>...</td>\n",
       "      <td>...</td>\n",
       "      <td>...</td>\n",
       "      <td>...</td>\n",
       "      <td>...</td>\n",
       "      <td>...</td>\n",
       "      <td>...</td>\n",
       "      <td>...</td>\n",
       "    </tr>\n",
       "    <tr>\n",
       "      <th>7598</th>\n",
       "      <td>-0.0036</td>\n",
       "      <td>179.195847</td>\n",
       "      <td>0.205967</td>\n",
       "      <td>0.0</td>\n",
       "      <td>-13.124617</td>\n",
       "      <td>-1.1501</td>\n",
       "      <td>0.0</td>\n",
       "      <td>-0.141633</td>\n",
       "      <td>179.249390</td>\n",
       "      <td>-44.338833</td>\n",
       "      <td>...</td>\n",
       "      <td>131.055649</td>\n",
       "      <td>-0.107667</td>\n",
       "      <td>-4.469967</td>\n",
       "      <td>159.381409</td>\n",
       "      <td>115.899368</td>\n",
       "      <td>-93.868584</td>\n",
       "      <td>-2.274633</td>\n",
       "      <td>-0.00065</td>\n",
       "      <td>-12.351267</td>\n",
       "      <td>0.0</td>\n",
       "    </tr>\n",
       "    <tr>\n",
       "      <th>7599</th>\n",
       "      <td>-0.0036</td>\n",
       "      <td>-73.804153</td>\n",
       "      <td>-53.794033</td>\n",
       "      <td>0.0</td>\n",
       "      <td>29.875383</td>\n",
       "      <td>-1.1501</td>\n",
       "      <td>0.0</td>\n",
       "      <td>-0.141633</td>\n",
       "      <td>-73.750618</td>\n",
       "      <td>67.661163</td>\n",
       "      <td>...</td>\n",
       "      <td>-64.944351</td>\n",
       "      <td>-0.107667</td>\n",
       "      <td>-4.469967</td>\n",
       "      <td>-93.618584</td>\n",
       "      <td>94.899368</td>\n",
       "      <td>-93.868584</td>\n",
       "      <td>-2.274633</td>\n",
       "      <td>-0.00065</td>\n",
       "      <td>-12.351267</td>\n",
       "      <td>0.0</td>\n",
       "    </tr>\n",
       "    <tr>\n",
       "      <th>7600</th>\n",
       "      <td>-0.0036</td>\n",
       "      <td>-73.804153</td>\n",
       "      <td>-53.794033</td>\n",
       "      <td>0.0</td>\n",
       "      <td>-13.124617</td>\n",
       "      <td>-1.1501</td>\n",
       "      <td>0.0</td>\n",
       "      <td>-0.141633</td>\n",
       "      <td>-73.750618</td>\n",
       "      <td>-44.338833</td>\n",
       "      <td>...</td>\n",
       "      <td>-64.944351</td>\n",
       "      <td>-0.107667</td>\n",
       "      <td>-4.469967</td>\n",
       "      <td>-93.618584</td>\n",
       "      <td>-137.100632</td>\n",
       "      <td>-53.868584</td>\n",
       "      <td>-2.274633</td>\n",
       "      <td>-0.00065</td>\n",
       "      <td>-12.351267</td>\n",
       "      <td>0.0</td>\n",
       "    </tr>\n",
       "    <tr>\n",
       "      <th>7601</th>\n",
       "      <td>-0.0036</td>\n",
       "      <td>-73.804153</td>\n",
       "      <td>-53.794033</td>\n",
       "      <td>0.0</td>\n",
       "      <td>19.875383</td>\n",
       "      <td>-1.1501</td>\n",
       "      <td>0.0</td>\n",
       "      <td>-0.141633</td>\n",
       "      <td>153.249390</td>\n",
       "      <td>-44.338833</td>\n",
       "      <td>...</td>\n",
       "      <td>-64.944351</td>\n",
       "      <td>-0.107667</td>\n",
       "      <td>-4.469967</td>\n",
       "      <td>158.381409</td>\n",
       "      <td>23.899368</td>\n",
       "      <td>-93.868584</td>\n",
       "      <td>-2.274633</td>\n",
       "      <td>-0.00065</td>\n",
       "      <td>125.648735</td>\n",
       "      <td>0.0</td>\n",
       "    </tr>\n",
       "    <tr>\n",
       "      <th>7602</th>\n",
       "      <td>-0.0036</td>\n",
       "      <td>-46.804153</td>\n",
       "      <td>-53.794033</td>\n",
       "      <td>0.0</td>\n",
       "      <td>-5.124617</td>\n",
       "      <td>-1.1501</td>\n",
       "      <td>0.0</td>\n",
       "      <td>-0.141633</td>\n",
       "      <td>178.249390</td>\n",
       "      <td>136.661163</td>\n",
       "      <td>...</td>\n",
       "      <td>-64.944351</td>\n",
       "      <td>-0.107667</td>\n",
       "      <td>-4.469967</td>\n",
       "      <td>148.381409</td>\n",
       "      <td>-9.100632</td>\n",
       "      <td>-93.868584</td>\n",
       "      <td>-2.274633</td>\n",
       "      <td>-0.00065</td>\n",
       "      <td>-12.351267</td>\n",
       "      <td>0.0</td>\n",
       "    </tr>\n",
       "  </tbody>\n",
       "</table>\n",
       "<p>7603 rows × 100 columns</p>\n",
       "</div>"
      ],
      "text/plain": [
       "          0           1           2    3          4       5    6         7   \\\n",
       "0    -0.0036  -73.804153  198.205963  0.0 -13.124617 -1.1501  0.0 -0.141633   \n",
       "1    -0.0036  -73.804153  197.205963  0.0 -13.124617 -1.1501  0.0 -0.141633   \n",
       "2    -0.0036  -73.804153  -53.794033  0.0 -13.124617 -1.1501  0.0 -0.141633   \n",
       "3    -0.0036  -73.804153   86.205963  0.0 -13.124617 -1.1501  0.0 -0.141633   \n",
       "4    -0.0036  -27.804153  199.205963  0.0 -13.124617 -1.1501  0.0 -0.141633   \n",
       "...      ...         ...         ...  ...        ...     ...  ...       ...   \n",
       "7598 -0.0036  179.195847    0.205967  0.0 -13.124617 -1.1501  0.0 -0.141633   \n",
       "7599 -0.0036  -73.804153  -53.794033  0.0  29.875383 -1.1501  0.0 -0.141633   \n",
       "7600 -0.0036  -73.804153  -53.794033  0.0 -13.124617 -1.1501  0.0 -0.141633   \n",
       "7601 -0.0036  -73.804153  -53.794033  0.0  19.875383 -1.1501  0.0 -0.141633   \n",
       "7602 -0.0036  -46.804153  -53.794033  0.0  -5.124617 -1.1501  0.0 -0.141633   \n",
       "\n",
       "              8           9   ...          90        91        92          93  \\\n",
       "0     179.249390  114.661163  ...  188.055649 -0.107667 -4.469967  158.381409   \n",
       "1     179.249390  -44.338833  ...  186.055649 -0.107667 -4.469967  123.381416   \n",
       "2     -73.750618  -44.338833  ...  188.055649 -0.107667 -4.469967  157.381409   \n",
       "3      76.249382  208.661163  ...  188.055649 -0.107667 -4.469967  157.381409   \n",
       "4     179.249390  -44.338833  ...  188.055649 -0.107667 -4.469967   22.381416   \n",
       "...          ...         ...  ...         ...       ...       ...         ...   \n",
       "7598  179.249390  -44.338833  ...  131.055649 -0.107667 -4.469967  159.381409   \n",
       "7599  -73.750618   67.661163  ...  -64.944351 -0.107667 -4.469967  -93.618584   \n",
       "7600  -73.750618  -44.338833  ...  -64.944351 -0.107667 -4.469967  -93.618584   \n",
       "7601  153.249390  -44.338833  ...  -64.944351 -0.107667 -4.469967  158.381409   \n",
       "7602  178.249390  136.661163  ...  -64.944351 -0.107667 -4.469967  148.381409   \n",
       "\n",
       "              94          95        96       97          98   99  \n",
       "0    -137.100632   27.131416 -2.274633 -0.00065  -12.351267  0.0  \n",
       "1    -137.100632  157.131409 -2.274633 -0.00065  -12.351267  0.0  \n",
       "2    -137.100632  -93.868584 -2.274633 -0.00065  -12.351267  0.0  \n",
       "3    -137.100632   74.131416 -2.274633 -0.00065  -12.351267  0.0  \n",
       "4    -137.100632  159.131409 -2.274633 -0.00065  -12.351267  0.0  \n",
       "...          ...         ...       ...      ...         ...  ...  \n",
       "7598  115.899368  -93.868584 -2.274633 -0.00065  -12.351267  0.0  \n",
       "7599   94.899368  -93.868584 -2.274633 -0.00065  -12.351267  0.0  \n",
       "7600 -137.100632  -53.868584 -2.274633 -0.00065  -12.351267  0.0  \n",
       "7601   23.899368  -93.868584 -2.274633 -0.00065  125.648735  0.0  \n",
       "7602   -9.100632  -93.868584 -2.274633 -0.00065  -12.351267  0.0  \n",
       "\n",
       "[7603 rows x 100 columns]"
      ]
     },
     "execution_count": 57,
     "metadata": {},
     "output_type": "execute_result"
    }
   ],
   "source": [
    "\n",
    "file='mnist.mat'\n",
    "mat = hdf5storage.loadmat(file) #mnist.mat 파일 로드\n",
    "\n",
    "X=pd.DataFrame(mat['X'])\n",
    "y=pd.DataFrame(mat['y'])\n",
    "\n",
    "X\n",
    "#####################################\n",
    "#size = 7000  #sampling 할 크기 결정\n",
    "####################################"
   ]
  },
  {
   "cell_type": "code",
   "execution_count": 58,
   "metadata": {},
   "outputs": [],
   "source": [
    "def weight_cal(y):     #원본 데이터 셋의 outlier 비율 계산 함수\n",
    "    normal_num, abnormal_num=cal(y)   #inlier 0, outlier 1\n",
    "    abnormal_rate = abnormal_num/(normal_num+abnormal_num)   # outlier 개수 비율\n",
    "    \n",
    "    z = pd.DataFrame(mat['y'])\n",
    "    z.columns=['weight']\n",
    "\n",
    "    z.loc[z[\"weight\"] == 0] = (1-abnormal_rate)/normal_num   #데이터 1개의 확률값\n",
    "    z.loc[z[\"weight\"] == 1] = abnormal_rate/abnormal_num\n",
    "    \n",
    "    return z\n",
    "    "
   ]
  },
  {
   "cell_type": "code",
   "execution_count": 59,
   "metadata": {},
   "outputs": [],
   "source": [
    "def separate_sampling(X,y,z,size):     #sample 크기를 선택할 때 사용\n",
    "    data=pd.concat([X,y,z],axis=1) #x,y,z 합치기\n",
    "    data=data.sample(n=size,weights='weight') #가중치를 이용해 sampling함\n",
    "    del data['weight'] \n",
    "    data.columns=[i for i in range(101)] # columns 값 0~100 설정\n",
    "   \n",
    "    normal=data.loc[data[100]==0]  #라벨 0은 normal로 \n",
    "    abnormal=data.loc[data[100]==1] #라벨 1은 abnormal로\n",
    "    normal.drop([100],axis=1,inplace=True) #\n",
    "    abnormal.drop([100],axis=1,inplace=True) #\n",
    " \n",
    "    \n",
    "    return normal,abnormal"
   ]
  },
  {
   "cell_type": "markdown",
   "metadata": {
    "scrolled": true
   },
   "source": []
  },
  {
   "cell_type": "code",
   "execution_count": 60,
   "metadata": {},
   "outputs": [],
   "source": [
    "def cal(y):    #데이터셋 normal, abnormal 개수 반환\n",
    "    normal=y.loc[y[0]==0]  #라벨 0은 normal로 \n",
    "    abnormal=y.loc[y[0]==1] #라벨 1은 abnormal로\n",
    "    return len(normal), len(abnormal) "
   ]
  },
  {
   "cell_type": "code",
   "execution_count": 61,
   "metadata": {},
   "outputs": [],
   "source": [
    "def separate(X,y):  #X,y  \n",
    "    data=pd.concat([X,y],axis=1) #왼쪽 + 오른쪽으로 합치기\n",
    "    data.columns=[i for i in range(101)] # columns 값 0~100 설정\n",
    "   \n",
    "   \n",
    "    normal=data.loc[data[100]==0]  #라벨 0은 normal로 \n",
    "    abnormal=data.loc[data[100]==1] #라벨 1은 abnormal로\n",
    "    normal.drop([100],axis=1,inplace=True) #\n",
    "    abnormal.drop([100],axis=1,inplace=True) #\n",
    "    print(len(normal))\n",
    "    print(len(abnormal))\n",
    "    \n",
    "    return normal,abnormal"
   ]
  },
  {
   "cell_type": "code",
   "execution_count": 62,
   "metadata": {},
   "outputs": [],
   "source": [
    "def prepare_sets(X,y):\n",
    "    X=np.array(X)\n",
    "    y=np.array(y)\n",
    "    X,X_test,y,y_test=train_test_split(X,y,test_size=0.2) #데이터 분할을 위해\n",
    "    X_train,X_dev,y_train,y_dev=train_test_split(X,y,test_size=0.25) #검증위해 Training, Validation, Testing로 나눔\n",
    "    return X_train,y_train,X_dev,y_dev,X_test,y_test"
   ]
  },
  {
   "cell_type": "code",
   "execution_count": 63,
   "metadata": {},
   "outputs": [],
   "source": [
    "def model(X):\n",
    "   \n",
    "    ifor = IsolationForest(n_estimators=100, max_samples=512,contamination=0.0235).fit(X) #모델 생성  \n",
    "    return ifor"
   ]
  },
  {
   "cell_type": "code",
   "execution_count": 64,
   "metadata": {},
   "outputs": [],
   "source": [
    "def model_evaluate(ifor,X,y):\n",
    "    s= -ifor.decision_function(X) # 평균 이상치 점수 \n",
    "    z=roc_auc_score(y,s)  #실제 라벨값과 이상치 점수로 auc 값 리턴 \n",
    "    print('AUCROC= ',z) \n"
   ]
  },
  {
   "cell_type": "code",
   "execution_count": 65,
   "metadata": {},
   "outputs": [],
   "source": [
    "def roc_plot(model,X,y):    #AUC 값을 도식화 \n",
    "    preds= -model.decision_function(X) #평균 이상치 점수\n",
    "    fpr, tpr, threshold = roc_curve(y, preds)\n",
    "    roc_auc = auc(fpr, tpr)\n",
    "\n",
    "    plt.title('Receiver Operating Characteristic')\n",
    "    plt.plot(fpr, tpr, 'b', label = 'AUC = %0.2f' % roc_auc)\n",
    "    plt.legend(loc = 'lower right')\n",
    "    plt.plot([0, 1], [0, 1],'r--')\n",
    "    plt.xlim([0, 1])\n",
    "    plt.ylim([0, 1])\n",
    "    plt.ylabel('True Positive Rate')\n",
    "    plt.xlabel('False Positive Rate')\n",
    "    plt.show()"
   ]
  },
  {
   "cell_type": "code",
   "execution_count": 66,
   "metadata": {
    "scrolled": true
   },
   "outputs": [
    {
     "name": "stdout",
     "output_type": "stream",
     "text": [
      "6903\n",
      "700\n"
     ]
    },
    {
     "name": "stderr",
     "output_type": "stream",
     "text": [
      "C:\\Users\\golde\\Anaconda3\\envs\\py3.6\\lib\\site-packages\\pandas\\core\\frame.py:3997: SettingWithCopyWarning: \n",
      "A value is trying to be set on a copy of a slice from a DataFrame\n",
      "\n",
      "See the caveats in the documentation: https://pandas.pydata.org/pandas-docs/stable/user_guide/indexing.html#returning-a-view-versus-a-copy\n",
      "  errors=errors,\n"
     ]
    }
   ],
   "source": [
    "#z = weight_cal(y)  #가중치로 샘플링할 때 필요\n",
    "z = cal(y)  #가중치로 샘플링할 때 필요\n",
    "\n",
    "\n",
    "#normal,abnormal=separate_sampling(X,y,z,size)  #Sampling 할 경우\n",
    "normal,abnormal=separate(X,y)       #원본 데이터셋 그대로 사용할 경우\n",
    "X_train,y_train,X_dev,y_dev,X_test,y_test=prepare_sets(X,y)"
   ]
  },
  {
   "cell_type": "code",
   "execution_count": null,
   "metadata": {},
   "outputs": [],
   "source": []
  },
  {
   "cell_type": "code",
   "execution_count": 67,
   "metadata": {},
   "outputs": [],
   "source": [
    "ifor=model(X_train)"
   ]
  },
  {
   "cell_type": "code",
   "execution_count": 68,
   "metadata": {},
   "outputs": [],
   "source": [
    "scores_n = -ifor.decision_function(normal) # 평균 이상치 점수  \n",
    "                                           #0.5-ifor.decision_function(normal)\n",
    "scores_ab= -ifor.decision_function(abnormal)"
   ]
  },
  {
   "cell_type": "code",
   "execution_count": 69,
   "metadata": {},
   "outputs": [
    {
     "data": {
      "image/png": "[encoded data removed]",
      "text/plain": [
       "<Figure size 432x288 with 1 Axes>"
      ]
     },
     "metadata": {
      "needs_background": "light"
     },
     "output_type": "display_data"
    }
   ],
   "source": [
    "for i in range(10):\n",
    "        plt.scatter(scores_n[i],0,color='blue',marker='*')\n",
    "\n",
    "for i in range(10):\n",
    "     plt.scatter(scores_ab[i],1,color='red',marker='*')"
   ]
  },
  {
   "cell_type": "code",
   "execution_count": 70,
   "metadata": {},
   "outputs": [
    {
     "name": "stdout",
     "output_type": "stream",
     "text": [
      "TRAIN\n",
      "AUCROC=  0.7912932913538386\n"
     ]
    }
   ],
   "source": [
    "print('TRAIN')\n",
    "model_evaluate(ifor,X_train,y_train)"
   ]
  },
  {
   "cell_type": "code",
   "execution_count": 71,
   "metadata": {},
   "outputs": [
    {
     "name": "stdout",
     "output_type": "stream",
     "text": [
      "DEV\n",
      "AUCROC=  0.7895686614560752\n"
     ]
    }
   ],
   "source": [
    "print('DEV')\n",
    "model_evaluate(ifor,X_dev,y_dev)"
   ]
  },
  {
   "cell_type": "code",
   "execution_count": 72,
   "metadata": {},
   "outputs": [
    {
     "name": "stdout",
     "output_type": "stream",
     "text": [
      "TEST\n",
      "AUCROC=  0.7606027397260273\n"
     ]
    }
   ],
   "source": [
    "print('TEST')\n",
    "model_evaluate(ifor,X_test,y_test)"
   ]
  },
  {
   "cell_type": "code",
   "execution_count": 73,
   "metadata": {
    "scrolled": true
   },
   "outputs": [
    {
     "name": "stdout",
     "output_type": "stream",
     "text": [
      "roc_plot\n"
     ]
    },
    {
     "data": {
      "image/png": "[encoded data removed]",
      "text/plain": [
       "<Figure size 432x288 with 1 Axes>"
      ]
     },
     "metadata": {
      "needs_background": "light"
     },
     "output_type": "display_data"
    }
   ],
   "source": [
    "print('roc_plot')\n",
    "roc_plot(ifor,X_dev,y_dev)"
   ]
  },
  {
   "cell_type": "code",
   "execution_count": null,
   "metadata": {},
   "outputs": [],
   "source": []
  },
  {
   "cell_type": "code",
   "execution_count": null,
   "metadata": {},
   "outputs": [],
   "source": []
  }
 ],
 "metadata": {
  "kernelspec": {
   "display_name": "Python 3",
   "language": "python",
   "name": "python3"
  },
  "language_info": {
   "codemirror_mode": {
    "name": "ipython",
    "version": 3
   },
   "file_extension": ".py",
   "mimetype": "text/x-python",
   "name": "python",
   "nbconvert_exporter": "python",
   "pygments_lexer": "ipython3",
   "version": "3.6.10"
  }
 },
 "nbformat": 4,
 "nbformat_minor": 2
}
